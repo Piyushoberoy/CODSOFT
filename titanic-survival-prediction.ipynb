{
 "cells": [
  {
   "cell_type": "markdown",
   "id": "ece2f7a6",
   "metadata": {
    "papermill": {
     "duration": 0.008081,
     "end_time": "2023-08-22T04:44:09.690073",
     "exception": false,
     "start_time": "2023-08-22T04:44:09.681992",
     "status": "completed"
    },
    "tags": []
   },
   "source": [
    "# **TITANIC SURVIVAL PREDICTION**"
   ]
  },
  {
   "cell_type": "markdown",
   "id": "0a1bee0c",
   "metadata": {
    "papermill": {
     "duration": 0.00696,
     "end_time": "2023-08-22T04:44:09.704682",
     "exception": false,
     "start_time": "2023-08-22T04:44:09.697722",
     "status": "completed"
    },
    "tags": []
   },
   "source": [
    "# **GENESIS: BIRTH OF DATA**"
   ]
  },
  {
   "cell_type": "code",
   "execution_count": 1,
   "id": "febae314",
   "metadata": {
    "execution": {
     "iopub.execute_input": "2023-08-22T04:44:09.722796Z",
     "iopub.status.busy": "2023-08-22T04:44:09.721424Z",
     "iopub.status.idle": "2023-08-22T04:44:09.734183Z",
     "shell.execute_reply": "2023-08-22T04:44:09.733135Z"
    },
    "papermill": {
     "duration": 0.023913,
     "end_time": "2023-08-22T04:44:09.736613",
     "exception": false,
     "start_time": "2023-08-22T04:44:09.712700",
     "status": "completed"
    },
    "tags": []
   },
   "outputs": [],
   "source": [
    "import pandas as pd\n",
    "import numpy as np"
   ]
  },
  {
   "cell_type": "code",
   "execution_count": 2,
   "id": "3182f4aa",
   "metadata": {
    "execution": {
     "iopub.execute_input": "2023-08-22T04:44:09.753039Z",
     "iopub.status.busy": "2023-08-22T04:44:09.752403Z",
     "iopub.status.idle": "2023-08-22T04:44:09.805788Z",
     "shell.execute_reply": "2023-08-22T04:44:09.804591Z"
    },
    "papermill": {
     "duration": 0.064639,
     "end_time": "2023-08-22T04:44:09.808439",
     "exception": false,
     "start_time": "2023-08-22T04:44:09.743800",
     "status": "completed"
    },
    "tags": []
   },
   "outputs": [
    {
     "data": {
      "text/html": [
       "<div>\n",
       "<style scoped>\n",
       "    .dataframe tbody tr th:only-of-type {\n",
       "        vertical-align: middle;\n",
       "    }\n",
       "\n",
       "    .dataframe tbody tr th {\n",
       "        vertical-align: top;\n",
       "    }\n",
       "\n",
       "    .dataframe thead th {\n",
       "        text-align: right;\n",
       "    }\n",
       "</style>\n",
       "<table border=\"1\" class=\"dataframe\">\n",
       "  <thead>\n",
       "    <tr style=\"text-align: right;\">\n",
       "      <th></th>\n",
       "      <th>PassengerId</th>\n",
       "      <th>Survived</th>\n",
       "      <th>Pclass</th>\n",
       "      <th>Name</th>\n",
       "      <th>Sex</th>\n",
       "      <th>Age</th>\n",
       "      <th>SibSp</th>\n",
       "      <th>Parch</th>\n",
       "      <th>Ticket</th>\n",
       "      <th>Fare</th>\n",
       "      <th>Cabin</th>\n",
       "      <th>Embarked</th>\n",
       "    </tr>\n",
       "  </thead>\n",
       "  <tbody>\n",
       "    <tr>\n",
       "      <th>0</th>\n",
       "      <td>892</td>\n",
       "      <td>0</td>\n",
       "      <td>3</td>\n",
       "      <td>Kelly, Mr. James</td>\n",
       "      <td>male</td>\n",
       "      <td>34.5</td>\n",
       "      <td>0</td>\n",
       "      <td>0</td>\n",
       "      <td>330911</td>\n",
       "      <td>7.8292</td>\n",
       "      <td>NaN</td>\n",
       "      <td>Q</td>\n",
       "    </tr>\n",
       "    <tr>\n",
       "      <th>1</th>\n",
       "      <td>893</td>\n",
       "      <td>1</td>\n",
       "      <td>3</td>\n",
       "      <td>Wilkes, Mrs. James (Ellen Needs)</td>\n",
       "      <td>female</td>\n",
       "      <td>47.0</td>\n",
       "      <td>1</td>\n",
       "      <td>0</td>\n",
       "      <td>363272</td>\n",
       "      <td>7.0000</td>\n",
       "      <td>NaN</td>\n",
       "      <td>S</td>\n",
       "    </tr>\n",
       "    <tr>\n",
       "      <th>2</th>\n",
       "      <td>894</td>\n",
       "      <td>0</td>\n",
       "      <td>2</td>\n",
       "      <td>Myles, Mr. Thomas Francis</td>\n",
       "      <td>male</td>\n",
       "      <td>62.0</td>\n",
       "      <td>0</td>\n",
       "      <td>0</td>\n",
       "      <td>240276</td>\n",
       "      <td>9.6875</td>\n",
       "      <td>NaN</td>\n",
       "      <td>Q</td>\n",
       "    </tr>\n",
       "    <tr>\n",
       "      <th>3</th>\n",
       "      <td>895</td>\n",
       "      <td>0</td>\n",
       "      <td>3</td>\n",
       "      <td>Wirz, Mr. Albert</td>\n",
       "      <td>male</td>\n",
       "      <td>27.0</td>\n",
       "      <td>0</td>\n",
       "      <td>0</td>\n",
       "      <td>315154</td>\n",
       "      <td>8.6625</td>\n",
       "      <td>NaN</td>\n",
       "      <td>S</td>\n",
       "    </tr>\n",
       "    <tr>\n",
       "      <th>4</th>\n",
       "      <td>896</td>\n",
       "      <td>1</td>\n",
       "      <td>3</td>\n",
       "      <td>Hirvonen, Mrs. Alexander (Helga E Lindqvist)</td>\n",
       "      <td>female</td>\n",
       "      <td>22.0</td>\n",
       "      <td>1</td>\n",
       "      <td>1</td>\n",
       "      <td>3101298</td>\n",
       "      <td>12.2875</td>\n",
       "      <td>NaN</td>\n",
       "      <td>S</td>\n",
       "    </tr>\n",
       "  </tbody>\n",
       "</table>\n",
       "</div>"
      ],
      "text/plain": [
       "   PassengerId  Survived  Pclass  \\\n",
       "0          892         0       3   \n",
       "1          893         1       3   \n",
       "2          894         0       2   \n",
       "3          895         0       3   \n",
       "4          896         1       3   \n",
       "\n",
       "                                           Name     Sex   Age  SibSp  Parch  \\\n",
       "0                              Kelly, Mr. James    male  34.5      0      0   \n",
       "1              Wilkes, Mrs. James (Ellen Needs)  female  47.0      1      0   \n",
       "2                     Myles, Mr. Thomas Francis    male  62.0      0      0   \n",
       "3                              Wirz, Mr. Albert    male  27.0      0      0   \n",
       "4  Hirvonen, Mrs. Alexander (Helga E Lindqvist)  female  22.0      1      1   \n",
       "\n",
       "    Ticket     Fare Cabin Embarked  \n",
       "0   330911   7.8292   NaN        Q  \n",
       "1   363272   7.0000   NaN        S  \n",
       "2   240276   9.6875   NaN        Q  \n",
       "3   315154   8.6625   NaN        S  \n",
       "4  3101298  12.2875   NaN        S  "
      ]
     },
     "execution_count": 2,
     "metadata": {},
     "output_type": "execute_result"
    }
   ],
   "source": [
    "df= pd.read_csv('/kaggle/input/test-file/tested.csv')\n",
    "df.head(5)"
   ]
  },
  {
   "cell_type": "markdown",
   "id": "ee9ebb21",
   "metadata": {
    "papermill": {
     "duration": 0.007909,
     "end_time": "2023-08-22T04:44:09.825827",
     "exception": false,
     "start_time": "2023-08-22T04:44:09.817918",
     "status": "completed"
    },
    "tags": []
   },
   "source": [
    "# **NOVA: THE PREPROCESSING**"
   ]
  },
  {
   "cell_type": "code",
   "execution_count": 3,
   "id": "264a3272",
   "metadata": {
    "execution": {
     "iopub.execute_input": "2023-08-22T04:44:09.843026Z",
     "iopub.status.busy": "2023-08-22T04:44:09.842407Z",
     "iopub.status.idle": "2023-08-22T04:44:09.881073Z",
     "shell.execute_reply": "2023-08-22T04:44:09.879635Z"
    },
    "papermill": {
     "duration": 0.050574,
     "end_time": "2023-08-22T04:44:09.884108",
     "exception": false,
     "start_time": "2023-08-22T04:44:09.833534",
     "status": "completed"
    },
    "tags": []
   },
   "outputs": [
    {
     "data": {
      "text/html": [
       "<div>\n",
       "<style scoped>\n",
       "    .dataframe tbody tr th:only-of-type {\n",
       "        vertical-align: middle;\n",
       "    }\n",
       "\n",
       "    .dataframe tbody tr th {\n",
       "        vertical-align: top;\n",
       "    }\n",
       "\n",
       "    .dataframe thead th {\n",
       "        text-align: right;\n",
       "    }\n",
       "</style>\n",
       "<table border=\"1\" class=\"dataframe\">\n",
       "  <thead>\n",
       "    <tr style=\"text-align: right;\">\n",
       "      <th></th>\n",
       "      <th>PassengerId</th>\n",
       "      <th>Survived</th>\n",
       "      <th>Pclass</th>\n",
       "      <th>Age</th>\n",
       "      <th>SibSp</th>\n",
       "      <th>Parch</th>\n",
       "      <th>Fare</th>\n",
       "    </tr>\n",
       "  </thead>\n",
       "  <tbody>\n",
       "    <tr>\n",
       "      <th>count</th>\n",
       "      <td>418.000000</td>\n",
       "      <td>418.000000</td>\n",
       "      <td>418.000000</td>\n",
       "      <td>332.000000</td>\n",
       "      <td>418.000000</td>\n",
       "      <td>418.000000</td>\n",
       "      <td>417.000000</td>\n",
       "    </tr>\n",
       "    <tr>\n",
       "      <th>mean</th>\n",
       "      <td>1100.500000</td>\n",
       "      <td>0.363636</td>\n",
       "      <td>2.265550</td>\n",
       "      <td>30.272590</td>\n",
       "      <td>0.447368</td>\n",
       "      <td>0.392344</td>\n",
       "      <td>35.627188</td>\n",
       "    </tr>\n",
       "    <tr>\n",
       "      <th>std</th>\n",
       "      <td>120.810458</td>\n",
       "      <td>0.481622</td>\n",
       "      <td>0.841838</td>\n",
       "      <td>14.181209</td>\n",
       "      <td>0.896760</td>\n",
       "      <td>0.981429</td>\n",
       "      <td>55.907576</td>\n",
       "    </tr>\n",
       "    <tr>\n",
       "      <th>min</th>\n",
       "      <td>892.000000</td>\n",
       "      <td>0.000000</td>\n",
       "      <td>1.000000</td>\n",
       "      <td>0.170000</td>\n",
       "      <td>0.000000</td>\n",
       "      <td>0.000000</td>\n",
       "      <td>0.000000</td>\n",
       "    </tr>\n",
       "    <tr>\n",
       "      <th>25%</th>\n",
       "      <td>996.250000</td>\n",
       "      <td>0.000000</td>\n",
       "      <td>1.000000</td>\n",
       "      <td>21.000000</td>\n",
       "      <td>0.000000</td>\n",
       "      <td>0.000000</td>\n",
       "      <td>7.895800</td>\n",
       "    </tr>\n",
       "    <tr>\n",
       "      <th>50%</th>\n",
       "      <td>1100.500000</td>\n",
       "      <td>0.000000</td>\n",
       "      <td>3.000000</td>\n",
       "      <td>27.000000</td>\n",
       "      <td>0.000000</td>\n",
       "      <td>0.000000</td>\n",
       "      <td>14.454200</td>\n",
       "    </tr>\n",
       "    <tr>\n",
       "      <th>75%</th>\n",
       "      <td>1204.750000</td>\n",
       "      <td>1.000000</td>\n",
       "      <td>3.000000</td>\n",
       "      <td>39.000000</td>\n",
       "      <td>1.000000</td>\n",
       "      <td>0.000000</td>\n",
       "      <td>31.500000</td>\n",
       "    </tr>\n",
       "    <tr>\n",
       "      <th>max</th>\n",
       "      <td>1309.000000</td>\n",
       "      <td>1.000000</td>\n",
       "      <td>3.000000</td>\n",
       "      <td>76.000000</td>\n",
       "      <td>8.000000</td>\n",
       "      <td>9.000000</td>\n",
       "      <td>512.329200</td>\n",
       "    </tr>\n",
       "  </tbody>\n",
       "</table>\n",
       "</div>"
      ],
      "text/plain": [
       "       PassengerId    Survived      Pclass         Age       SibSp  \\\n",
       "count   418.000000  418.000000  418.000000  332.000000  418.000000   \n",
       "mean   1100.500000    0.363636    2.265550   30.272590    0.447368   \n",
       "std     120.810458    0.481622    0.841838   14.181209    0.896760   \n",
       "min     892.000000    0.000000    1.000000    0.170000    0.000000   \n",
       "25%     996.250000    0.000000    1.000000   21.000000    0.000000   \n",
       "50%    1100.500000    0.000000    3.000000   27.000000    0.000000   \n",
       "75%    1204.750000    1.000000    3.000000   39.000000    1.000000   \n",
       "max    1309.000000    1.000000    3.000000   76.000000    8.000000   \n",
       "\n",
       "            Parch        Fare  \n",
       "count  418.000000  417.000000  \n",
       "mean     0.392344   35.627188  \n",
       "std      0.981429   55.907576  \n",
       "min      0.000000    0.000000  \n",
       "25%      0.000000    7.895800  \n",
       "50%      0.000000   14.454200  \n",
       "75%      0.000000   31.500000  \n",
       "max      9.000000  512.329200  "
      ]
     },
     "execution_count": 3,
     "metadata": {},
     "output_type": "execute_result"
    }
   ],
   "source": [
    "df.describe()"
   ]
  },
  {
   "cell_type": "code",
   "execution_count": 4,
   "id": "4ffc9e39",
   "metadata": {
    "execution": {
     "iopub.execute_input": "2023-08-22T04:44:09.902804Z",
     "iopub.status.busy": "2023-08-22T04:44:09.901617Z",
     "iopub.status.idle": "2023-08-22T04:44:09.911677Z",
     "shell.execute_reply": "2023-08-22T04:44:09.910307Z"
    },
    "papermill": {
     "duration": 0.022324,
     "end_time": "2023-08-22T04:44:09.914391",
     "exception": false,
     "start_time": "2023-08-22T04:44:09.892067",
     "status": "completed"
    },
    "tags": []
   },
   "outputs": [
    {
     "data": {
      "text/plain": [
       "PassengerId      int64\n",
       "Survived         int64\n",
       "Pclass           int64\n",
       "Name            object\n",
       "Sex             object\n",
       "Age            float64\n",
       "SibSp            int64\n",
       "Parch            int64\n",
       "Ticket          object\n",
       "Fare           float64\n",
       "Cabin           object\n",
       "Embarked        object\n",
       "dtype: object"
      ]
     },
     "execution_count": 4,
     "metadata": {},
     "output_type": "execute_result"
    }
   ],
   "source": [
    "df.dtypes"
   ]
  },
  {
   "cell_type": "code",
   "execution_count": 5,
   "id": "aa0fef09",
   "metadata": {
    "execution": {
     "iopub.execute_input": "2023-08-22T04:44:09.931838Z",
     "iopub.status.busy": "2023-08-22T04:44:09.931441Z",
     "iopub.status.idle": "2023-08-22T04:44:09.941595Z",
     "shell.execute_reply": "2023-08-22T04:44:09.940184Z"
    },
    "papermill": {
     "duration": 0.021623,
     "end_time": "2023-08-22T04:44:09.943940",
     "exception": false,
     "start_time": "2023-08-22T04:44:09.922317",
     "status": "completed"
    },
    "tags": []
   },
   "outputs": [
    {
     "data": {
      "text/plain": [
       "PassengerId      0\n",
       "Survived         0\n",
       "Pclass           0\n",
       "Name             0\n",
       "Sex              0\n",
       "Age             86\n",
       "SibSp            0\n",
       "Parch            0\n",
       "Ticket           0\n",
       "Fare             1\n",
       "Cabin          327\n",
       "Embarked         0\n",
       "dtype: int64"
      ]
     },
     "execution_count": 5,
     "metadata": {},
     "output_type": "execute_result"
    }
   ],
   "source": [
    "df.isnull().sum()"
   ]
  },
  {
   "cell_type": "code",
   "execution_count": 6,
   "id": "f39d8f06",
   "metadata": {
    "execution": {
     "iopub.execute_input": "2023-08-22T04:44:09.961357Z",
     "iopub.status.busy": "2023-08-22T04:44:09.960945Z",
     "iopub.status.idle": "2023-08-22T04:44:09.967479Z",
     "shell.execute_reply": "2023-08-22T04:44:09.966644Z"
    },
    "papermill": {
     "duration": 0.017992,
     "end_time": "2023-08-22T04:44:09.969721",
     "exception": false,
     "start_time": "2023-08-22T04:44:09.951729",
     "status": "completed"
    },
    "tags": []
   },
   "outputs": [],
   "source": [
    "df[\"Age\"] = df[\"Age\"].fillna(df[\"Age\"].mean())\n",
    "df[\"Fare\"] = df[\"Fare\"].fillna(df[\"Fare\"].mean())"
   ]
  },
  {
   "cell_type": "code",
   "execution_count": 7,
   "id": "60649a76",
   "metadata": {
    "execution": {
     "iopub.execute_input": "2023-08-22T04:44:09.988357Z",
     "iopub.status.busy": "2023-08-22T04:44:09.987922Z",
     "iopub.status.idle": "2023-08-22T04:44:09.996842Z",
     "shell.execute_reply": "2023-08-22T04:44:09.995393Z"
    },
    "papermill": {
     "duration": 0.021761,
     "end_time": "2023-08-22T04:44:09.999477",
     "exception": false,
     "start_time": "2023-08-22T04:44:09.977716",
     "status": "completed"
    },
    "tags": []
   },
   "outputs": [
    {
     "data": {
      "text/plain": [
       "PassengerId      0\n",
       "Survived         0\n",
       "Pclass           0\n",
       "Name             0\n",
       "Sex              0\n",
       "Age              0\n",
       "SibSp            0\n",
       "Parch            0\n",
       "Ticket           0\n",
       "Fare             0\n",
       "Cabin          327\n",
       "Embarked         0\n",
       "dtype: int64"
      ]
     },
     "execution_count": 7,
     "metadata": {},
     "output_type": "execute_result"
    }
   ],
   "source": [
    "df.isnull().sum()"
   ]
  },
  {
   "cell_type": "code",
   "execution_count": 8,
   "id": "b999bf6a",
   "metadata": {
    "execution": {
     "iopub.execute_input": "2023-08-22T04:44:10.020054Z",
     "iopub.status.busy": "2023-08-22T04:44:10.017511Z",
     "iopub.status.idle": "2023-08-22T04:44:10.029186Z",
     "shell.execute_reply": "2023-08-22T04:44:10.027966Z"
    },
    "papermill": {
     "duration": 0.024038,
     "end_time": "2023-08-22T04:44:10.031687",
     "exception": false,
     "start_time": "2023-08-22T04:44:10.007649",
     "status": "completed"
    },
    "tags": []
   },
   "outputs": [
    {
     "name": "stdout",
     "output_type": "stream",
     "text": [
      "Embarked: Q\n",
      "Embarked: S\n",
      "Embarked: C\n"
     ]
    }
   ],
   "source": [
    "Embarkeds = df.Embarked.unique()\n",
    "for Embarked in Embarkeds:\n",
    "    print(\"Embarked:\", Embarked)"
   ]
  },
  {
   "cell_type": "code",
   "execution_count": 9,
   "id": "2cdca957",
   "metadata": {
    "execution": {
     "iopub.execute_input": "2023-08-22T04:44:10.050197Z",
     "iopub.status.busy": "2023-08-22T04:44:10.049533Z",
     "iopub.status.idle": "2023-08-22T04:44:10.062155Z",
     "shell.execute_reply": "2023-08-22T04:44:10.061233Z"
    },
    "papermill": {
     "duration": 0.024835,
     "end_time": "2023-08-22T04:44:10.064612",
     "exception": false,
     "start_time": "2023-08-22T04:44:10.039777",
     "status": "completed"
    },
    "tags": []
   },
   "outputs": [
    {
     "data": {
      "text/plain": [
       "0    0\n",
       "1    1\n",
       "2    0\n",
       "3    1\n",
       "4    1\n",
       "Name: Embarked, dtype: int64"
      ]
     },
     "execution_count": 9,
     "metadata": {},
     "output_type": "execute_result"
    }
   ],
   "source": [
    "df['Embarked'] = df[\"Embarked\"].map({'Q':0, 'S':1, 'C':2}).astype(int)\n",
    "df[\"Embarked\"].head(5)"
   ]
  },
  {
   "cell_type": "code",
   "execution_count": 10,
   "id": "4713edb3",
   "metadata": {
    "execution": {
     "iopub.execute_input": "2023-08-22T04:44:10.083391Z",
     "iopub.status.busy": "2023-08-22T04:44:10.082983Z",
     "iopub.status.idle": "2023-08-22T04:44:10.091379Z",
     "shell.execute_reply": "2023-08-22T04:44:10.090536Z"
    },
    "papermill": {
     "duration": 0.020805,
     "end_time": "2023-08-22T04:44:10.093589",
     "exception": false,
     "start_time": "2023-08-22T04:44:10.072784",
     "status": "completed"
    },
    "tags": []
   },
   "outputs": [
    {
     "data": {
      "text/plain": [
       "0    0\n",
       "1    1\n",
       "2    0\n",
       "3    0\n",
       "4    1\n",
       "Name: Sex, dtype: int64"
      ]
     },
     "execution_count": 10,
     "metadata": {},
     "output_type": "execute_result"
    }
   ],
   "source": [
    "df[\"Sex\"] = df[\"Sex\"].map({'female':1, 'male':0}).astype(int)\n",
    "df[\"Sex\"].head(5)"
   ]
  },
  {
   "cell_type": "code",
   "execution_count": 11,
   "id": "35fb060e",
   "metadata": {
    "execution": {
     "iopub.execute_input": "2023-08-22T04:44:10.113271Z",
     "iopub.status.busy": "2023-08-22T04:44:10.112190Z",
     "iopub.status.idle": "2023-08-22T04:44:10.120546Z",
     "shell.execute_reply": "2023-08-22T04:44:10.119554Z"
    },
    "papermill": {
     "duration": 0.020601,
     "end_time": "2023-08-22T04:44:10.122682",
     "exception": false,
     "start_time": "2023-08-22T04:44:10.102081",
     "status": "completed"
    },
    "tags": []
   },
   "outputs": [
    {
     "data": {
      "text/plain": [
       "PassengerId      int64\n",
       "Survived         int64\n",
       "Pclass           int64\n",
       "Name            object\n",
       "Sex              int64\n",
       "Age            float64\n",
       "SibSp            int64\n",
       "Parch            int64\n",
       "Ticket          object\n",
       "Fare           float64\n",
       "Cabin           object\n",
       "Embarked         int64\n",
       "dtype: object"
      ]
     },
     "execution_count": 11,
     "metadata": {},
     "output_type": "execute_result"
    }
   ],
   "source": [
    "df.dtypes"
   ]
  },
  {
   "cell_type": "code",
   "execution_count": 12,
   "id": "fe3623a8",
   "metadata": {
    "execution": {
     "iopub.execute_input": "2023-08-22T04:44:10.142143Z",
     "iopub.status.busy": "2023-08-22T04:44:10.141478Z",
     "iopub.status.idle": "2023-08-22T04:44:10.147511Z",
     "shell.execute_reply": "2023-08-22T04:44:10.146601Z"
    },
    "papermill": {
     "duration": 0.018522,
     "end_time": "2023-08-22T04:44:10.149933",
     "exception": false,
     "start_time": "2023-08-22T04:44:10.131411",
     "status": "completed"
    },
    "tags": []
   },
   "outputs": [],
   "source": [
    "df[\"Age\"] = df.Age.astype(int)\n",
    "df[\"Fare\"] = df.Fare.astype(int)"
   ]
  },
  {
   "cell_type": "code",
   "execution_count": 13,
   "id": "84b52cd6",
   "metadata": {
    "execution": {
     "iopub.execute_input": "2023-08-22T04:44:10.169082Z",
     "iopub.status.busy": "2023-08-22T04:44:10.168439Z",
     "iopub.status.idle": "2023-08-22T04:44:10.182555Z",
     "shell.execute_reply": "2023-08-22T04:44:10.181414Z"
    },
    "papermill": {
     "duration": 0.026399,
     "end_time": "2023-08-22T04:44:10.184877",
     "exception": false,
     "start_time": "2023-08-22T04:44:10.158478",
     "status": "completed"
    },
    "tags": []
   },
   "outputs": [
    {
     "data": {
      "text/html": [
       "<div>\n",
       "<style scoped>\n",
       "    .dataframe tbody tr th:only-of-type {\n",
       "        vertical-align: middle;\n",
       "    }\n",
       "\n",
       "    .dataframe tbody tr th {\n",
       "        vertical-align: top;\n",
       "    }\n",
       "\n",
       "    .dataframe thead th {\n",
       "        text-align: right;\n",
       "    }\n",
       "</style>\n",
       "<table border=\"1\" class=\"dataframe\">\n",
       "  <thead>\n",
       "    <tr style=\"text-align: right;\">\n",
       "      <th></th>\n",
       "      <th>PassengerId</th>\n",
       "      <th>Survived</th>\n",
       "      <th>Pclass</th>\n",
       "      <th>Name</th>\n",
       "      <th>Sex</th>\n",
       "      <th>Age</th>\n",
       "      <th>SibSp</th>\n",
       "      <th>Parch</th>\n",
       "      <th>Ticket</th>\n",
       "      <th>Fare</th>\n",
       "      <th>Cabin</th>\n",
       "      <th>Embarked</th>\n",
       "    </tr>\n",
       "  </thead>\n",
       "  <tbody>\n",
       "    <tr>\n",
       "      <th>0</th>\n",
       "      <td>892</td>\n",
       "      <td>0</td>\n",
       "      <td>3</td>\n",
       "      <td>Kelly, Mr. James</td>\n",
       "      <td>0</td>\n",
       "      <td>34</td>\n",
       "      <td>0</td>\n",
       "      <td>0</td>\n",
       "      <td>330911</td>\n",
       "      <td>7</td>\n",
       "      <td>NaN</td>\n",
       "      <td>0</td>\n",
       "    </tr>\n",
       "    <tr>\n",
       "      <th>1</th>\n",
       "      <td>893</td>\n",
       "      <td>1</td>\n",
       "      <td>3</td>\n",
       "      <td>Wilkes, Mrs. James (Ellen Needs)</td>\n",
       "      <td>1</td>\n",
       "      <td>47</td>\n",
       "      <td>1</td>\n",
       "      <td>0</td>\n",
       "      <td>363272</td>\n",
       "      <td>7</td>\n",
       "      <td>NaN</td>\n",
       "      <td>1</td>\n",
       "    </tr>\n",
       "    <tr>\n",
       "      <th>2</th>\n",
       "      <td>894</td>\n",
       "      <td>0</td>\n",
       "      <td>2</td>\n",
       "      <td>Myles, Mr. Thomas Francis</td>\n",
       "      <td>0</td>\n",
       "      <td>62</td>\n",
       "      <td>0</td>\n",
       "      <td>0</td>\n",
       "      <td>240276</td>\n",
       "      <td>9</td>\n",
       "      <td>NaN</td>\n",
       "      <td>0</td>\n",
       "    </tr>\n",
       "    <tr>\n",
       "      <th>3</th>\n",
       "      <td>895</td>\n",
       "      <td>0</td>\n",
       "      <td>3</td>\n",
       "      <td>Wirz, Mr. Albert</td>\n",
       "      <td>0</td>\n",
       "      <td>27</td>\n",
       "      <td>0</td>\n",
       "      <td>0</td>\n",
       "      <td>315154</td>\n",
       "      <td>8</td>\n",
       "      <td>NaN</td>\n",
       "      <td>1</td>\n",
       "    </tr>\n",
       "    <tr>\n",
       "      <th>4</th>\n",
       "      <td>896</td>\n",
       "      <td>1</td>\n",
       "      <td>3</td>\n",
       "      <td>Hirvonen, Mrs. Alexander (Helga E Lindqvist)</td>\n",
       "      <td>1</td>\n",
       "      <td>22</td>\n",
       "      <td>1</td>\n",
       "      <td>1</td>\n",
       "      <td>3101298</td>\n",
       "      <td>12</td>\n",
       "      <td>NaN</td>\n",
       "      <td>1</td>\n",
       "    </tr>\n",
       "  </tbody>\n",
       "</table>\n",
       "</div>"
      ],
      "text/plain": [
       "   PassengerId  Survived  Pclass  \\\n",
       "0          892         0       3   \n",
       "1          893         1       3   \n",
       "2          894         0       2   \n",
       "3          895         0       3   \n",
       "4          896         1       3   \n",
       "\n",
       "                                           Name  Sex  Age  SibSp  Parch  \\\n",
       "0                              Kelly, Mr. James    0   34      0      0   \n",
       "1              Wilkes, Mrs. James (Ellen Needs)    1   47      1      0   \n",
       "2                     Myles, Mr. Thomas Francis    0   62      0      0   \n",
       "3                              Wirz, Mr. Albert    0   27      0      0   \n",
       "4  Hirvonen, Mrs. Alexander (Helga E Lindqvist)    1   22      1      1   \n",
       "\n",
       "    Ticket  Fare Cabin  Embarked  \n",
       "0   330911     7   NaN         0  \n",
       "1   363272     7   NaN         1  \n",
       "2   240276     9   NaN         0  \n",
       "3   315154     8   NaN         1  \n",
       "4  3101298    12   NaN         1  "
      ]
     },
     "execution_count": 13,
     "metadata": {},
     "output_type": "execute_result"
    }
   ],
   "source": [
    "df.head(5)"
   ]
  },
  {
   "cell_type": "markdown",
   "id": "40dfa2b3",
   "metadata": {
    "papermill": {
     "duration": 0.008783,
     "end_time": "2023-08-22T04:44:10.202289",
     "exception": false,
     "start_time": "2023-08-22T04:44:10.193506",
     "status": "completed"
    },
    "tags": []
   },
   "source": [
    "**REMOVING USELESS DATA**"
   ]
  },
  {
   "cell_type": "code",
   "execution_count": 14,
   "id": "cec3416f",
   "metadata": {
    "execution": {
     "iopub.execute_input": "2023-08-22T04:44:10.223256Z",
     "iopub.status.busy": "2023-08-22T04:44:10.222603Z",
     "iopub.status.idle": "2023-08-22T04:44:10.237740Z",
     "shell.execute_reply": "2023-08-22T04:44:10.236825Z"
    },
    "papermill": {
     "duration": 0.028747,
     "end_time": "2023-08-22T04:44:10.240283",
     "exception": false,
     "start_time": "2023-08-22T04:44:10.211536",
     "status": "completed"
    },
    "tags": []
   },
   "outputs": [
    {
     "data": {
      "text/html": [
       "<div>\n",
       "<style scoped>\n",
       "    .dataframe tbody tr th:only-of-type {\n",
       "        vertical-align: middle;\n",
       "    }\n",
       "\n",
       "    .dataframe tbody tr th {\n",
       "        vertical-align: top;\n",
       "    }\n",
       "\n",
       "    .dataframe thead th {\n",
       "        text-align: right;\n",
       "    }\n",
       "</style>\n",
       "<table border=\"1\" class=\"dataframe\">\n",
       "  <thead>\n",
       "    <tr style=\"text-align: right;\">\n",
       "      <th></th>\n",
       "      <th>Survived</th>\n",
       "      <th>Pclass</th>\n",
       "      <th>Sex</th>\n",
       "      <th>Age</th>\n",
       "      <th>SibSp</th>\n",
       "      <th>Parch</th>\n",
       "      <th>Fare</th>\n",
       "      <th>Embarked</th>\n",
       "    </tr>\n",
       "  </thead>\n",
       "  <tbody>\n",
       "    <tr>\n",
       "      <th>0</th>\n",
       "      <td>0</td>\n",
       "      <td>3</td>\n",
       "      <td>0</td>\n",
       "      <td>34</td>\n",
       "      <td>0</td>\n",
       "      <td>0</td>\n",
       "      <td>7</td>\n",
       "      <td>0</td>\n",
       "    </tr>\n",
       "    <tr>\n",
       "      <th>1</th>\n",
       "      <td>1</td>\n",
       "      <td>3</td>\n",
       "      <td>1</td>\n",
       "      <td>47</td>\n",
       "      <td>1</td>\n",
       "      <td>0</td>\n",
       "      <td>7</td>\n",
       "      <td>1</td>\n",
       "    </tr>\n",
       "    <tr>\n",
       "      <th>2</th>\n",
       "      <td>0</td>\n",
       "      <td>2</td>\n",
       "      <td>0</td>\n",
       "      <td>62</td>\n",
       "      <td>0</td>\n",
       "      <td>0</td>\n",
       "      <td>9</td>\n",
       "      <td>0</td>\n",
       "    </tr>\n",
       "    <tr>\n",
       "      <th>3</th>\n",
       "      <td>0</td>\n",
       "      <td>3</td>\n",
       "      <td>0</td>\n",
       "      <td>27</td>\n",
       "      <td>0</td>\n",
       "      <td>0</td>\n",
       "      <td>8</td>\n",
       "      <td>1</td>\n",
       "    </tr>\n",
       "    <tr>\n",
       "      <th>4</th>\n",
       "      <td>1</td>\n",
       "      <td>3</td>\n",
       "      <td>1</td>\n",
       "      <td>22</td>\n",
       "      <td>1</td>\n",
       "      <td>1</td>\n",
       "      <td>12</td>\n",
       "      <td>1</td>\n",
       "    </tr>\n",
       "  </tbody>\n",
       "</table>\n",
       "</div>"
      ],
      "text/plain": [
       "   Survived  Pclass  Sex  Age  SibSp  Parch  Fare  Embarked\n",
       "0         0       3    0   34      0      0     7         0\n",
       "1         1       3    1   47      1      0     7         1\n",
       "2         0       2    0   62      0      0     9         0\n",
       "3         0       3    0   27      0      0     8         1\n",
       "4         1       3    1   22      1      1    12         1"
      ]
     },
     "execution_count": 14,
     "metadata": {},
     "output_type": "execute_result"
    }
   ],
   "source": [
    "uselessData = df.drop([\"PassengerId\", \"Name\", \"Ticket\", \"Cabin\"], axis=1, inplace = True)\n",
    "df.head(5)"
   ]
  },
  {
   "cell_type": "code",
   "execution_count": 15,
   "id": "b55b1a7d",
   "metadata": {
    "execution": {
     "iopub.execute_input": "2023-08-22T04:44:10.260266Z",
     "iopub.status.busy": "2023-08-22T04:44:10.259517Z",
     "iopub.status.idle": "2023-08-22T04:44:10.275178Z",
     "shell.execute_reply": "2023-08-22T04:44:10.273905Z"
    },
    "papermill": {
     "duration": 0.028474,
     "end_time": "2023-08-22T04:44:10.277718",
     "exception": false,
     "start_time": "2023-08-22T04:44:10.249244",
     "status": "completed"
    },
    "tags": []
   },
   "outputs": [
    {
     "data": {
      "text/html": [
       "<div>\n",
       "<style scoped>\n",
       "    .dataframe tbody tr th:only-of-type {\n",
       "        vertical-align: middle;\n",
       "    }\n",
       "\n",
       "    .dataframe tbody tr th {\n",
       "        vertical-align: top;\n",
       "    }\n",
       "\n",
       "    .dataframe thead th {\n",
       "        text-align: right;\n",
       "    }\n",
       "</style>\n",
       "<table border=\"1\" class=\"dataframe\">\n",
       "  <thead>\n",
       "    <tr style=\"text-align: right;\">\n",
       "      <th></th>\n",
       "      <th>Survived</th>\n",
       "      <th>Pclass</th>\n",
       "      <th>Sex</th>\n",
       "      <th>Age</th>\n",
       "      <th>SibSp</th>\n",
       "      <th>Parch</th>\n",
       "      <th>Fare</th>\n",
       "      <th>Embarked</th>\n",
       "    </tr>\n",
       "  </thead>\n",
       "  <tbody>\n",
       "    <tr>\n",
       "      <th>1</th>\n",
       "      <td>1</td>\n",
       "      <td>3</td>\n",
       "      <td>1</td>\n",
       "      <td>47</td>\n",
       "      <td>1</td>\n",
       "      <td>0</td>\n",
       "      <td>7</td>\n",
       "      <td>1</td>\n",
       "    </tr>\n",
       "    <tr>\n",
       "      <th>4</th>\n",
       "      <td>1</td>\n",
       "      <td>3</td>\n",
       "      <td>1</td>\n",
       "      <td>22</td>\n",
       "      <td>1</td>\n",
       "      <td>1</td>\n",
       "      <td>12</td>\n",
       "      <td>1</td>\n",
       "    </tr>\n",
       "    <tr>\n",
       "      <th>6</th>\n",
       "      <td>1</td>\n",
       "      <td>3</td>\n",
       "      <td>1</td>\n",
       "      <td>30</td>\n",
       "      <td>0</td>\n",
       "      <td>0</td>\n",
       "      <td>7</td>\n",
       "      <td>0</td>\n",
       "    </tr>\n",
       "    <tr>\n",
       "      <th>8</th>\n",
       "      <td>1</td>\n",
       "      <td>3</td>\n",
       "      <td>1</td>\n",
       "      <td>18</td>\n",
       "      <td>0</td>\n",
       "      <td>0</td>\n",
       "      <td>7</td>\n",
       "      <td>2</td>\n",
       "    </tr>\n",
       "    <tr>\n",
       "      <th>12</th>\n",
       "      <td>1</td>\n",
       "      <td>1</td>\n",
       "      <td>1</td>\n",
       "      <td>23</td>\n",
       "      <td>1</td>\n",
       "      <td>0</td>\n",
       "      <td>82</td>\n",
       "      <td>1</td>\n",
       "    </tr>\n",
       "    <tr>\n",
       "      <th>...</th>\n",
       "      <td>...</td>\n",
       "      <td>...</td>\n",
       "      <td>...</td>\n",
       "      <td>...</td>\n",
       "      <td>...</td>\n",
       "      <td>...</td>\n",
       "      <td>...</td>\n",
       "      <td>...</td>\n",
       "    </tr>\n",
       "    <tr>\n",
       "      <th>409</th>\n",
       "      <td>1</td>\n",
       "      <td>3</td>\n",
       "      <td>1</td>\n",
       "      <td>3</td>\n",
       "      <td>1</td>\n",
       "      <td>1</td>\n",
       "      <td>13</td>\n",
       "      <td>1</td>\n",
       "    </tr>\n",
       "    <tr>\n",
       "      <th>410</th>\n",
       "      <td>1</td>\n",
       "      <td>3</td>\n",
       "      <td>1</td>\n",
       "      <td>30</td>\n",
       "      <td>0</td>\n",
       "      <td>0</td>\n",
       "      <td>7</td>\n",
       "      <td>0</td>\n",
       "    </tr>\n",
       "    <tr>\n",
       "      <th>411</th>\n",
       "      <td>1</td>\n",
       "      <td>1</td>\n",
       "      <td>1</td>\n",
       "      <td>37</td>\n",
       "      <td>1</td>\n",
       "      <td>0</td>\n",
       "      <td>90</td>\n",
       "      <td>0</td>\n",
       "    </tr>\n",
       "    <tr>\n",
       "      <th>412</th>\n",
       "      <td>1</td>\n",
       "      <td>3</td>\n",
       "      <td>1</td>\n",
       "      <td>28</td>\n",
       "      <td>0</td>\n",
       "      <td>0</td>\n",
       "      <td>7</td>\n",
       "      <td>1</td>\n",
       "    </tr>\n",
       "    <tr>\n",
       "      <th>414</th>\n",
       "      <td>1</td>\n",
       "      <td>1</td>\n",
       "      <td>1</td>\n",
       "      <td>39</td>\n",
       "      <td>0</td>\n",
       "      <td>0</td>\n",
       "      <td>108</td>\n",
       "      <td>2</td>\n",
       "    </tr>\n",
       "  </tbody>\n",
       "</table>\n",
       "<p>152 rows × 8 columns</p>\n",
       "</div>"
      ],
      "text/plain": [
       "     Survived  Pclass  Sex  Age  SibSp  Parch  Fare  Embarked\n",
       "1           1       3    1   47      1      0     7         1\n",
       "4           1       3    1   22      1      1    12         1\n",
       "6           1       3    1   30      0      0     7         0\n",
       "8           1       3    1   18      0      0     7         2\n",
       "12          1       1    1   23      1      0    82         1\n",
       "..        ...     ...  ...  ...    ...    ...   ...       ...\n",
       "409         1       3    1    3      1      1    13         1\n",
       "410         1       3    1   30      0      0     7         0\n",
       "411         1       1    1   37      1      0    90         0\n",
       "412         1       3    1   28      0      0     7         1\n",
       "414         1       1    1   39      0      0   108         2\n",
       "\n",
       "[152 rows x 8 columns]"
      ]
     },
     "execution_count": 15,
     "metadata": {},
     "output_type": "execute_result"
    }
   ],
   "source": [
    "#_, ax = mpl.subplots(figsize = (10, 7))\n",
    "#sb.histplot(data = df, x = \"Sex\", hue = \"Survived\", palette = [\"red\", \"green\"])\n",
    "#mpl.plot()\n",
    "df[(df[\"Sex\"] == 1) & (df[\"Survived\"]==1)]"
   ]
  },
  {
   "cell_type": "markdown",
   "id": "61f12f19",
   "metadata": {
    "papermill": {
     "duration": 0.010404,
     "end_time": "2023-08-22T04:44:10.297488",
     "exception": false,
     "start_time": "2023-08-22T04:44:10.287084",
     "status": "completed"
    },
    "tags": []
   },
   "source": [
    "# **DRISHTI: THE DATA VISUALIZATION**"
   ]
  },
  {
   "cell_type": "code",
   "execution_count": 16,
   "id": "b62f52ce",
   "metadata": {
    "execution": {
     "iopub.execute_input": "2023-08-22T04:44:10.317875Z",
     "iopub.status.busy": "2023-08-22T04:44:10.317471Z",
     "iopub.status.idle": "2023-08-22T04:44:11.877625Z",
     "shell.execute_reply": "2023-08-22T04:44:11.876188Z"
    },
    "papermill": {
     "duration": 1.573891,
     "end_time": "2023-08-22T04:44:11.880580",
     "exception": false,
     "start_time": "2023-08-22T04:44:10.306689",
     "status": "completed"
    },
    "tags": []
   },
   "outputs": [
    {
     "name": "stderr",
     "output_type": "stream",
     "text": [
      "/opt/conda/lib/python3.10/site-packages/scipy/__init__.py:146: UserWarning: A NumPy version >=1.16.5 and <1.23.0 is required for this version of SciPy (detected version 1.23.5\n",
      "  warnings.warn(f\"A NumPy version >={np_minversion} and <{np_maxversion}\"\n"
     ]
    }
   ],
   "source": [
    "import seaborn as sb\n",
    "import matplotlib.pyplot as mpl"
   ]
  },
  {
   "cell_type": "code",
   "execution_count": 17,
   "id": "b4bd3d3d",
   "metadata": {
    "execution": {
     "iopub.execute_input": "2023-08-22T04:44:11.902544Z",
     "iopub.status.busy": "2023-08-22T04:44:11.901773Z",
     "iopub.status.idle": "2023-08-22T04:44:11.907737Z",
     "shell.execute_reply": "2023-08-22T04:44:11.906508Z"
    },
    "papermill": {
     "duration": 0.019869,
     "end_time": "2023-08-22T04:44:11.910455",
     "exception": false,
     "start_time": "2023-08-22T04:44:11.890586",
     "status": "completed"
    },
    "tags": []
   },
   "outputs": [],
   "source": [
    "sb.set(style = \"dark\")"
   ]
  },
  {
   "cell_type": "code",
   "execution_count": 18,
   "id": "13d45336",
   "metadata": {
    "execution": {
     "iopub.execute_input": "2023-08-22T04:44:11.931335Z",
     "iopub.status.busy": "2023-08-22T04:44:11.930650Z",
     "iopub.status.idle": "2023-08-22T04:44:12.621744Z",
     "shell.execute_reply": "2023-08-22T04:44:12.619742Z"
    },
    "papermill": {
     "duration": 0.704857,
     "end_time": "2023-08-22T04:44:12.624682",
     "exception": false,
     "start_time": "2023-08-22T04:44:11.919825",
     "status": "completed"
    },
    "tags": []
   },
   "outputs": [
    {
     "data": {
      "text/plain": [
       "[]"
      ]
     },
     "execution_count": 18,
     "metadata": {},
     "output_type": "execute_result"
    },
    {
     "data": {
      "image/png": "[encoded data removed]",
      "text/plain": [
       "<Figure size 1000x700 with 1 Axes>"
      ]
     },
     "metadata": {},
     "output_type": "display_data"
    }
   ],
   "source": [
    "_, ax = mpl.subplots(figsize = (10, 7))\n",
    "sb.histplot(data = df, x = \"Age\", hue = \"Survived\", multiple = \"stack\", kde = True, palette=[\"red\", \"green\"], ax = ax)\n",
    "ax.set_title(\"Histogram for Age with Survival\")\n",
    "ax.set_xlabel(\"Age\")\n",
    "ax.set_ylabel(\"Number of passengers\")\n",
    "ax.legend(title = \"Survival\", labels = [\"Survived\", \"Not survived\"])\n",
    "mpl.plot()"
   ]
  },
  {
   "cell_type": "code",
   "execution_count": 19,
   "id": "720134e4",
   "metadata": {
    "execution": {
     "iopub.execute_input": "2023-08-22T04:44:12.648173Z",
     "iopub.status.busy": "2023-08-22T04:44:12.647715Z",
     "iopub.status.idle": "2023-08-22T04:44:12.656674Z",
     "shell.execute_reply": "2023-08-22T04:44:12.655758Z"
    },
    "papermill": {
     "duration": 0.023335,
     "end_time": "2023-08-22T04:44:12.659052",
     "exception": false,
     "start_time": "2023-08-22T04:44:12.635717",
     "status": "completed"
    },
    "tags": []
   },
   "outputs": [
    {
     "data": {
      "text/plain": [
       "512"
      ]
     },
     "execution_count": 19,
     "metadata": {},
     "output_type": "execute_result"
    }
   ],
   "source": [
    "df.Fare.max()"
   ]
  },
  {
   "cell_type": "code",
   "execution_count": 20,
   "id": "e0eb4ba8",
   "metadata": {
    "execution": {
     "iopub.execute_input": "2023-08-22T04:44:12.682576Z",
     "iopub.status.busy": "2023-08-22T04:44:12.681563Z",
     "iopub.status.idle": "2023-08-22T04:44:13.573496Z",
     "shell.execute_reply": "2023-08-22T04:44:13.572519Z"
    },
    "papermill": {
     "duration": 0.906356,
     "end_time": "2023-08-22T04:44:13.575899",
     "exception": false,
     "start_time": "2023-08-22T04:44:12.669543",
     "status": "completed"
    },
    "tags": []
   },
   "outputs": [
    {
     "data": {
      "text/plain": [
       "[]"
      ]
     },
     "execution_count": 20,
     "metadata": {},
     "output_type": "execute_result"
    },
    {
     "data": {
      "image/png": "[encoded data removed]",
      "text/plain": [
       "<Figure size 1000x700 with 1 Axes>"
      ]
     },
     "metadata": {},
     "output_type": "display_data"
    }
   ],
   "source": [
    "_, ax = mpl.subplots(figsize = (10, 7))\n",
    "sb.histplot(data = df, x = \"Fare\", hue = \"Survived\", multiple = \"stack\", kde = True, palette = [\"red\", \"green\"], ax = ax)\n",
    "ax.set_title(\"Histogram for Fare with Survival\")\n",
    "ax.set_xlabel(\"Fare\")\n",
    "ax.set_ylabel(\"Number of passengers\")\n",
    "ax.legend(title = \"Survival\", labels = [\"Survived\", \"Not survived\"])\n",
    "mpl.plot()"
   ]
  },
  {
   "cell_type": "code",
   "execution_count": 21,
   "id": "e52c8819",
   "metadata": {
    "execution": {
     "iopub.execute_input": "2023-08-22T04:44:13.601027Z",
     "iopub.status.busy": "2023-08-22T04:44:13.600091Z",
     "iopub.status.idle": "2023-08-22T04:44:13.883343Z",
     "shell.execute_reply": "2023-08-22T04:44:13.881922Z"
    },
    "papermill": {
     "duration": 0.298731,
     "end_time": "2023-08-22T04:44:13.886007",
     "exception": false,
     "start_time": "2023-08-22T04:44:13.587276",
     "status": "completed"
    },
    "tags": []
   },
   "outputs": [
    {
     "data": {
      "image/png": "[encoded data removed]",
      "text/plain": [
       "<Figure size 640x480 with 1 Axes>"
      ]
     },
     "metadata": {},
     "output_type": "display_data"
    }
   ],
   "source": [
    "ax = sb.countplot(data = df, x=\"Survived\", hue = \"Survived\", palette = [\"red\", \"green\"])\n",
    "ax.set_xlabel(\"Survived\")\n",
    "ax.set_ylabel(\"Count\")\n",
    "ax.set_title(\"Survival Count\")\n",
    "ax.legend(title = \"Survival\", labels = [\"Not Survived\", \"Survived\"])\n",
    "mpl.xticks([0,1],[\"Male\", \"Female\"])\n",
    "mpl.show()"
   ]
  },
  {
   "cell_type": "markdown",
   "id": "fe3d555a",
   "metadata": {
    "papermill": {
     "duration": 0.011891,
     "end_time": "2023-08-22T04:44:13.909603",
     "exception": false,
     "start_time": "2023-08-22T04:44:13.897712",
     "status": "completed"
    },
    "tags": []
   },
   "source": [
    "# **KINETIC: SPLITTING THE DATA**"
   ]
  },
  {
   "cell_type": "code",
   "execution_count": 22,
   "id": "8bf54a7f",
   "metadata": {
    "execution": {
     "iopub.execute_input": "2023-08-22T04:44:13.934798Z",
     "iopub.status.busy": "2023-08-22T04:44:13.934397Z",
     "iopub.status.idle": "2023-08-22T04:44:14.236942Z",
     "shell.execute_reply": "2023-08-22T04:44:14.235548Z"
    },
    "papermill": {
     "duration": 0.318774,
     "end_time": "2023-08-22T04:44:14.240008",
     "exception": false,
     "start_time": "2023-08-22T04:44:13.921234",
     "status": "completed"
    },
    "tags": []
   },
   "outputs": [],
   "source": [
    "from sklearn.model_selection import train_test_split"
   ]
  },
  {
   "cell_type": "code",
   "execution_count": 23,
   "id": "2377f459",
   "metadata": {
    "execution": {
     "iopub.execute_input": "2023-08-22T04:44:14.265362Z",
     "iopub.status.busy": "2023-08-22T04:44:14.264945Z",
     "iopub.status.idle": "2023-08-22T04:44:14.273849Z",
     "shell.execute_reply": "2023-08-22T04:44:14.272889Z"
    },
    "papermill": {
     "duration": 0.024181,
     "end_time": "2023-08-22T04:44:14.276132",
     "exception": false,
     "start_time": "2023-08-22T04:44:14.251951",
     "status": "completed"
    },
    "tags": []
   },
   "outputs": [],
   "source": [
    "Input = df.drop(['Survived'], axis=1)\n",
    "Output = df.iloc[:,1]\n",
    "x_train, x_test, y_train, y_test = train_test_split(Input, Output, test_size = 0.2, random_state = 1)"
   ]
  },
  {
   "cell_type": "markdown",
   "id": "f98c2f92",
   "metadata": {
    "papermill": {
     "duration": 0.011312,
     "end_time": "2023-08-22T04:44:14.299076",
     "exception": false,
     "start_time": "2023-08-22T04:44:14.287764",
     "status": "completed"
    },
    "tags": []
   },
   "source": [
    "# **FINAL BATTLE: THE MODEL**"
   ]
  },
  {
   "cell_type": "code",
   "execution_count": 24,
   "id": "46b85c8e",
   "metadata": {
    "execution": {
     "iopub.execute_input": "2023-08-22T04:44:14.324196Z",
     "iopub.status.busy": "2023-08-22T04:44:14.323733Z",
     "iopub.status.idle": "2023-08-22T04:44:14.450637Z",
     "shell.execute_reply": "2023-08-22T04:44:14.449571Z"
    },
    "papermill": {
     "duration": 0.142609,
     "end_time": "2023-08-22T04:44:14.453229",
     "exception": false,
     "start_time": "2023-08-22T04:44:14.310620",
     "status": "completed"
    },
    "tags": []
   },
   "outputs": [],
   "source": [
    "from sklearn.linear_model import LogisticRegression\n",
    "from sklearn.metrics import accuracy_score as score"
   ]
  },
  {
   "cell_type": "code",
   "execution_count": 25,
   "id": "702edd8c",
   "metadata": {
    "execution": {
     "iopub.execute_input": "2023-08-22T04:44:14.478754Z",
     "iopub.status.busy": "2023-08-22T04:44:14.478134Z",
     "iopub.status.idle": "2023-08-22T04:44:14.523276Z",
     "shell.execute_reply": "2023-08-22T04:44:14.522351Z"
    },
    "papermill": {
     "duration": 0.060813,
     "end_time": "2023-08-22T04:44:14.525684",
     "exception": false,
     "start_time": "2023-08-22T04:44:14.464871",
     "status": "completed"
    },
    "tags": []
   },
   "outputs": [
    {
     "name": "stderr",
     "output_type": "stream",
     "text": [
      "/opt/conda/lib/python3.10/site-packages/sklearn/linear_model/_logistic.py:458: ConvergenceWarning: lbfgs failed to converge (status=1):\n",
      "STOP: TOTAL NO. of ITERATIONS REACHED LIMIT.\n",
      "\n",
      "Increase the number of iterations (max_iter) or scale the data as shown in:\n",
      "    https://scikit-learn.org/stable/modules/preprocessing.html\n",
      "Please also refer to the documentation for alternative solver options:\n",
      "    https://scikit-learn.org/stable/modules/linear_model.html#logistic-regression\n",
      "  n_iter_i = _check_optimize_result(\n"
     ]
    },
    {
     "data": {
      "text/html": [
       "<style>#sk-container-id-1 {color: black;background-color: white;}#sk-container-id-1 pre{padding: 0;}#sk-container-id-1 div.sk-toggleable {background-color: white;}#sk-container-id-1 label.sk-toggleable__label {cursor: pointer;display: block;width: 100%;margin-bottom: 0;padding: 0.3em;box-sizing: border-box;text-align: center;}#sk-container-id-1 label.sk-toggleable__label-arrow:before {content: \"▸\";float: left;margin-right: 0.25em;color: #696969;}#sk-container-id-1 label.sk-toggleable__label-arrow:hover:before {color: black;}#sk-container-id-1 div.sk-estimator:hover label.sk-toggleable__label-arrow:before {color: black;}#sk-container-id-1 div.sk-toggleable__content {max-height: 0;max-width: 0;overflow: hidden;text-align: left;background-color: #f0f8ff;}#sk-container-id-1 div.sk-toggleable__content pre {margin: 0.2em;color: black;border-radius: 0.25em;background-color: #f0f8ff;}#sk-container-id-1 input.sk-toggleable__control:checked~div.sk-toggleable__content {max-height: 200px;max-width: 100%;overflow: auto;}#sk-container-id-1 input.sk-toggleable__control:checked~label.sk-toggleable__label-arrow:before {content: \"▾\";}#sk-container-id-1 div.sk-estimator input.sk-toggleable__control:checked~label.sk-toggleable__label {background-color: #d4ebff;}#sk-container-id-1 div.sk-label input.sk-toggleable__control:checked~label.sk-toggleable__label {background-color: #d4ebff;}#sk-container-id-1 input.sk-hidden--visually {border: 0;clip: rect(1px 1px 1px 1px);clip: rect(1px, 1px, 1px, 1px);height: 1px;margin: -1px;overflow: hidden;padding: 0;position: absolute;width: 1px;}#sk-container-id-1 div.sk-estimator {font-family: monospace;background-color: #f0f8ff;border: 1px dotted black;border-radius: 0.25em;box-sizing: border-box;margin-bottom: 0.5em;}#sk-container-id-1 div.sk-estimator:hover {background-color: #d4ebff;}#sk-container-id-1 div.sk-parallel-item::after {content: \"\";width: 100%;border-bottom: 1px solid gray;flex-grow: 1;}#sk-container-id-1 div.sk-label:hover label.sk-toggleable__label {background-color: #d4ebff;}#sk-container-id-1 div.sk-serial::before {content: \"\";position: absolute;border-left: 1px solid gray;box-sizing: border-box;top: 0;bottom: 0;left: 50%;z-index: 0;}#sk-container-id-1 div.sk-serial {display: flex;flex-direction: column;align-items: center;background-color: white;padding-right: 0.2em;padding-left: 0.2em;position: relative;}#sk-container-id-1 div.sk-item {position: relative;z-index: 1;}#sk-container-id-1 div.sk-parallel {display: flex;align-items: stretch;justify-content: center;background-color: white;position: relative;}#sk-container-id-1 div.sk-item::before, #sk-container-id-1 div.sk-parallel-item::before {content: \"\";position: absolute;border-left: 1px solid gray;box-sizing: border-box;top: 0;bottom: 0;left: 50%;z-index: -1;}#sk-container-id-1 div.sk-parallel-item {display: flex;flex-direction: column;z-index: 1;position: relative;background-color: white;}#sk-container-id-1 div.sk-parallel-item:first-child::after {align-self: flex-end;width: 50%;}#sk-container-id-1 div.sk-parallel-item:last-child::after {align-self: flex-start;width: 50%;}#sk-container-id-1 div.sk-parallel-item:only-child::after {width: 0;}#sk-container-id-1 div.sk-dashed-wrapped {border: 1px dashed gray;margin: 0 0.4em 0.5em 0.4em;box-sizing: border-box;padding-bottom: 0.4em;background-color: white;}#sk-container-id-1 div.sk-label label {font-family: monospace;font-weight: bold;display: inline-block;line-height: 1.2em;}#sk-container-id-1 div.sk-label-container {text-align: center;}#sk-container-id-1 div.sk-container {/* jupyter's `normalize.less` sets `[hidden] { display: none; }` but bootstrap.min.css set `[hidden] { display: none !important; }` so we also need the `!important` here to be able to override the default hidden behavior on the sphinx rendered scikit-learn.org. See: https://github.com/scikit-learn/scikit-learn/issues/21755 */display: inline-block !important;position: relative;}#sk-container-id-1 div.sk-text-repr-fallback {display: none;}</style><div id=\"sk-container-id-1\" class=\"sk-top-container\"><div class=\"sk-text-repr-fallback\"><pre>LogisticRegression()</pre><b>In a Jupyter environment, please rerun this cell to show the HTML representation or trust the notebook. <br />On GitHub, the HTML representation is unable to render, please try loading this page with nbviewer.org.</b></div><div class=\"sk-container\" hidden><div class=\"sk-item\"><div class=\"sk-estimator sk-toggleable\"><input class=\"sk-toggleable__control sk-hidden--visually\" id=\"sk-estimator-id-1\" type=\"checkbox\" checked><label for=\"sk-estimator-id-1\" class=\"sk-toggleable__label sk-toggleable__label-arrow\">LogisticRegression</label><div class=\"sk-toggleable__content\"><pre>LogisticRegression()</pre></div></div></div></div></div>"
      ],
      "text/plain": [
       "LogisticRegression()"
      ]
     },
     "execution_count": 25,
     "metadata": {},
     "output_type": "execute_result"
    }
   ],
   "source": [
    "LR = LogisticRegression()\n",
    "LR.fit(x_train, y_train)"
   ]
  },
  {
   "cell_type": "code",
   "execution_count": 26,
   "id": "cb6edebd",
   "metadata": {
    "execution": {
     "iopub.execute_input": "2023-08-22T04:44:14.552053Z",
     "iopub.status.busy": "2023-08-22T04:44:14.551070Z",
     "iopub.status.idle": "2023-08-22T04:44:14.560109Z",
     "shell.execute_reply": "2023-08-22T04:44:14.558855Z"
    },
    "papermill": {
     "duration": 0.024935,
     "end_time": "2023-08-22T04:44:14.562598",
     "exception": false,
     "start_time": "2023-08-22T04:44:14.537663",
     "status": "completed"
    },
    "tags": []
   },
   "outputs": [
    {
     "name": "stdout",
     "output_type": "stream",
     "text": [
      "Accuracy = 100.00%\n"
     ]
    }
   ],
   "source": [
    "PredictedValue = LR.predict(x_test)\n",
    "print(\"Accuracy = {:0.2f}%\".format(score(PredictedValue, y_test)*100))"
   ]
  }
 ],
 "metadata": {
  "kernelspec": {
   "display_name": "Python 3",
   "language": "python",
   "name": "python3"
  },
  "language_info": {
   "codemirror_mode": {
    "name": "ipython",
    "version": 3
   },
   "file_extension": ".py",
   "mimetype": "text/x-python",
   "name": "python",
   "nbconvert_exporter": "python",
   "pygments_lexer": "ipython3",
   "version": "3.10.12"
  },
  "papermill": {
   "default_parameters": {},
   "duration": 18.552315,
   "end_time": "2023-08-22T04:44:15.697456",
   "environment_variables": {},
   "exception": null,
   "input_path": "__notebook__.ipynb",
   "output_path": "__notebook__.ipynb",
   "parameters": {},
   "start_time": "2023-08-22T04:43:57.145141",
   "version": "2.4.0"
  }
 },
 "nbformat": 4,
 "nbformat_minor": 5
}
